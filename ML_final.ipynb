{
  "nbformat": 4,
  "nbformat_minor": 0,
  "metadata": {
    "colab": {
      "provenance": [],
      "gpuType": "T4"
    },
    "kernelspec": {
      "name": "python3",
      "display_name": "Python 3"
    },
    "language_info": {
      "name": "python"
    },
    "accelerator": "GPU"
  },
  "cells": [
    {
      "cell_type": "code",
      "execution_count": null,
      "metadata": {
        "colab": {
          "base_uri": "https://localhost:8080/"
        },
        "id": "3nt8c0Pmw8G2",
        "outputId": "41bdcafc-f3b2-4663-edb6-c64779b593e2"
      },
      "outputs": [
        {
          "output_type": "stream",
          "name": "stdout",
          "text": [
            "The length of unhealthy input images is  30\n",
            "The length of healthy input images is  30\n",
            "The length of images is  480\n",
            "The length of labels is  480\n",
            "Epoch 1/10\n",
            "11/11 [==============================] - 2s 63ms/step - loss: 1.3817 - accuracy: 0.5685 - val_loss: 0.6894 - val_accuracy: 0.4950\n",
            "Epoch 2/10\n",
            "11/11 [==============================] - 0s 39ms/step - loss: 0.6670 - accuracy: 0.6101 - val_loss: 0.6224 - val_accuracy: 0.6733\n",
            "Epoch 3/10\n",
            "11/11 [==============================] - 0s 39ms/step - loss: 0.4455 - accuracy: 0.8661 - val_loss: 0.2716 - val_accuracy: 0.9109\n",
            "Epoch 4/10\n",
            "11/11 [==============================] - 0s 41ms/step - loss: 0.1291 - accuracy: 0.9613 - val_loss: 0.1867 - val_accuracy: 0.9208\n",
            "Epoch 5/10\n",
            "11/11 [==============================] - 0s 39ms/step - loss: 0.0151 - accuracy: 1.0000 - val_loss: 0.0956 - val_accuracy: 0.9604\n",
            "Epoch 6/10\n",
            "11/11 [==============================] - 0s 40ms/step - loss: 0.0015 - accuracy: 1.0000 - val_loss: 0.0945 - val_accuracy: 0.9703\n",
            "Epoch 7/10\n",
            "11/11 [==============================] - 0s 44ms/step - loss: 4.2560e-04 - accuracy: 1.0000 - val_loss: 0.1377 - val_accuracy: 0.9406\n",
            "Epoch 8/10\n",
            "11/11 [==============================] - 0s 46ms/step - loss: 2.2731e-04 - accuracy: 1.0000 - val_loss: 0.1015 - val_accuracy: 0.9505\n",
            "Epoch 9/10\n",
            "11/11 [==============================] - 0s 45ms/step - loss: 1.2897e-04 - accuracy: 1.0000 - val_loss: 0.1127 - val_accuracy: 0.9406\n",
            "Epoch 10/10\n",
            "11/11 [==============================] - 0s 45ms/step - loss: 1.0009e-04 - accuracy: 1.0000 - val_loss: 0.1142 - val_accuracy: 0.9406\n",
            "2/2 [==============================] - 0s 13ms/step - loss: 0.1625 - accuracy: 0.9070\n",
            "Test Loss: 0.16252484917640686\n",
            "Test Accuracy: 0.9069767594337463\n"
          ]
        }
      ],
      "source": [
        "import tensorflow as tf\n",
        "from sklearn.preprocessing import LabelEncoder\n",
        "from tensorflow.keras.models import Sequential\n",
        "from tensorflow.keras.layers import Conv2D, MaxPooling2D, Flatten, Dense, Dropout\n",
        "from sklearn.model_selection import train_test_split\n",
        "from tensorflow.keras.preprocessing.image import ImageDataGenerator\n",
        "from PIL import Image\n",
        "import cv2\n",
        "import os\n",
        "import numpy as np\n",
        "from sklearn.metrics import classification_report\n",
        "\n",
        "images=[]\n",
        "labels=[]\n",
        "\n",
        "def augment_images(image_array,labelName):\n",
        "    global images\n",
        "    global labels\n",
        "\n",
        "    def rotate_image(image, angle):\n",
        "        rows, cols = image.shape[:2]\n",
        "        rotation_matrix = cv2.getRotationMatrix2D((cols / 2, rows / 2), angle, 1)\n",
        "        rotated_image = cv2.warpAffine(image, rotation_matrix, (cols, rows))\n",
        "        return rotated_image\n",
        "\n",
        "    def flip_image(image, flip_code):\n",
        "        flipped_image = cv2.flip(image, flip_code)\n",
        "        return flipped_image\n",
        "\n",
        "    def mirror_image(image):\n",
        "        mirrored_image = cv2.flip(image, -1)\n",
        "        return mirrored_image\n",
        "\n",
        "    for image in image_array:\n",
        "        images.append(image)\n",
        "        labels.append(labelName)\n",
        "        images.append(rotate_image(image, 90))\n",
        "        labels.append(labelName)\n",
        "        images.append(rotate_image(image, 180))\n",
        "        labels.append(labelName)\n",
        "        images.append(rotate_image(image, 270))\n",
        "        labels.append(labelName)\n",
        "        images.append(flip_image(image, 1))\n",
        "        labels.append(labelName)\n",
        "        images.append(rotate_image(flip_image(image, 1), 90))\n",
        "        labels.append(labelName)\n",
        "        images.append(rotate_image(flip_image(image, 1), 180))\n",
        "        labels.append(labelName)\n",
        "        images.append(rotate_image(flip_image(image, 1), 270))\n",
        "        labels.append(labelName)\n",
        "\n",
        "\n",
        "def read_jpg_images(folder_path):\n",
        "    temp_img = []\n",
        "\n",
        "    for filename in os.listdir(folder_path):\n",
        "        if filename.endswith('.jpg') or filename.endswith('.jpeg'):\n",
        "            image_path = os.path.join(folder_path, filename)\n",
        "            image = Image.open(image_path)\n",
        "            image = image.convert('L')\n",
        "            pixel_array = np.array(image)\n",
        "            temp_img.append(pixel_array)\n",
        "\n",
        "    return temp_img\n",
        "\n",
        "jpg_folder_path_pos = '/content/drive/MyDrive/dataset JPG/25th of all/Pos'\n",
        "unhealthy_img = read_jpg_images(jpg_folder_path_pos)\n",
        "\n",
        "jpg_folder_path_neg = '/content/drive/MyDrive/dataset JPG/25th of all/Neg/'\n",
        "healthy_img = read_jpg_images(jpg_folder_path_neg)\n",
        "\n",
        "print(\"The length of unhealthy input images is \",len(unhealthy_img))\n",
        "print(\"The length of healthy input images is \",len(healthy_img))\n",
        "\n",
        "augment_images(unhealthy_img,\"unhealthy\")\n",
        "augment_images(healthy_img,\"healthy\")\n",
        "\n",
        "print(\"The length of images is \",len(images))\n",
        "print(\"The length of labels is \",len(labels))\n",
        "\n",
        "label_encoder = LabelEncoder()\n",
        "labels = label_encoder.fit_transform(labels)\n",
        "\n",
        "\n",
        "desired_width = 227\n",
        "desired_height = 227\n",
        "\n",
        "def preprocess_images(images):\n",
        "    processed_images = np.array([np.array(Image.fromarray(img).resize((desired_width, desired_height))) for img in images])\n",
        "    processed_images = processed_images.astype('float32') / 255.0\n",
        "    processed_images = processed_images.reshape(-1, desired_width, desired_height, 1)\n",
        "    return processed_images\n",
        "\n",
        "model = tf.keras.Sequential([\n",
        "    tf.keras.layers.Conv2D(32, (3, 3), activation='relu', input_shape=(desired_width, desired_height, 1)),\n",
        "    tf.keras.layers.MaxPooling2D((2, 2)),\n",
        "    tf.keras.layers.Conv2D(64, (3, 3), activation='relu'),\n",
        "    tf.keras.layers.MaxPooling2D((2, 2)),\n",
        "    tf.keras.layers.Flatten(),\n",
        "    tf.keras.layers.Dense(64, activation='relu'),\n",
        "    tf.keras.layers.Dense(2, activation='softmax')\n",
        "])\n",
        "\n",
        "model.compile(optimizer='adam', loss='sparse_categorical_crossentropy', metrics=['accuracy'])\n",
        "\n",
        "train_images, test_val_images, train_labels, test_val_labels = train_test_split(images, labels, test_size=0.3)\n",
        "\n",
        "test_images, val_images, test_labels, val_labels = train_test_split(test_val_images, test_val_labels, test_size=0.7)\n",
        "\n",
        "train_images = preprocess_images(train_images)\n",
        "val_images = preprocess_images(val_images)\n",
        "test_images = preprocess_images(test_images)\n",
        "\n",
        "model.fit(train_images, train_labels, epochs=10, validation_data=(val_images, val_labels))\n",
        "\n",
        "test_loss, test_accuracy = model.evaluate(test_images, test_labels)\n",
        "print(\"Test Loss:\", test_loss)\n",
        "print(\"Test Accuracy:\", test_accuracy)\n"
      ]
    },
    {
      "cell_type": "code",
      "source": [
        "from google.colab import drive\n",
        "drive.mount('/content/drive')"
      ],
      "metadata": {
        "colab": {
          "base_uri": "https://localhost:8080/"
        },
        "id": "8RFuok2Hktmv",
        "outputId": "9ad900a9-9e3c-4354-f811-a6111d38ff58"
      },
      "execution_count": null,
      "outputs": [
        {
          "output_type": "stream",
          "name": "stdout",
          "text": [
            "Drive already mounted at /content/drive; to attempt to forcibly remount, call drive.mount(\"/content/drive\", force_remount=True).\n"
          ]
        }
      ]
    },
    {
      "cell_type": "code",
      "source": [],
      "metadata": {
        "id": "27cE52KCKLfu"
      },
      "execution_count": null,
      "outputs": []
    }
  ]
}